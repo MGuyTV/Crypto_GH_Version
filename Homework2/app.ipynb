{
 "cells": [
  {
   "cell_type": "code",
   "execution_count": 62,
   "id": "0fb8c8cf",
   "metadata": {
    "scrolled": true
   },
   "outputs": [
    {
     "name": "stdout",
     "output_type": "stream",
     "text": [
      "E0ECE8BFB0C9854BC9916246DC1E7EC42994C78EBC0796690E7E0385FA49EA367CD829\n",
      "E046538A205A27B6848E26C274FD1494A930F64E0E7BE70DDCEC6DB9CAED505D4E8F77\n",
      "5E4AB8920E02B1010869A96EBBB65B6BA6D78A733735A0D890D6AF11586CB504FDCAD9\n",
      "8CB1D1BAF7DA4A0F205304D1F7596AE23E9414FD2B56458CC1961C131C52524BF7B2A1\n",
      "5140E943D61AA53F280340693612F8A9551D2406CE6CF66FCAB6F925BD5EB76CFB25945\n",
      "740D229F0D125E6DADDFA1FACA411E93AE56DFD27F186F30DB22BC79C17594F16FE414\n",
      "57D2C769EF08201B0FF91D482BF92EAA0AEE4991009C8717EFB6DC0CD0B535E38EB13E\n",
      "E4AC65FCE00E82C6587FECBC9EC550DDB66587D5735B1DB78BFB8AF54F1F237D2A2EE\n",
      "AB2B61D195105CBB6557644B2474ED96DBB918DE09D0B17DED901BE61C97A1CD3B200\n",
      "A3678369FF4\n",
      "\n"
     ]
    }
   ],
   "source": [
    "from pathlib import Path\n",
    "ciphertext = Path(\"./ciphertext\").read_text()\n",
    "print(ciphertext)"
   ]
  },
  {
   "cell_type": "code",
   "execution_count": 63,
   "id": "cf9c1f9c",
   "metadata": {},
   "outputs": [
    {
     "name": "stdout",
     "output_type": "stream",
     "text": [
      "0xe593b292\n",
      "0xd82ce2c4\n",
      "0x8539c08c\n",
      "0x2efb24ef\n"
     ]
    }
   ],
   "source": [
    "#16 bits to be broken down into 4 different words per key\n",
    "#There are 4 bits in 1 hex digit, se what we need to do is divide the key\n",
    "#into 4 different \n",
    "#https://linuxhint.com/string-to-hexadecimal-in-python/\n",
    "#https://stackoverflow.com/questions/2397687/whats-the-easiest-way-to-convert-a-list-of-hex-byte-strings-to-a-list-of-hex-in\n",
    "\n",
    "key11 = \"E593B292_D82CE2C4_8539C08C_2EFB24EF\"#k11 is the 10th key, we start at k1\n",
    "key11array = key11.split(\"_\")\n",
    "key11array = [int(x, 16) for x in key11array]\n",
    "#for i in range(len(key11array)):\n",
    " #   key11array[i] = hex(key11array[i])\n",
    "for i in key11array:\n",
    "    print(hex(i))\n",
    "#key10 = F6FA49F0 3DBF5056 5D152248 ABC2E463"
   ]
  },
  {
   "cell_type": "code",
   "execution_count": 78,
   "id": "6d1df4ec",
   "metadata": {},
   "outputs": [
    {
     "name": "stdout",
     "output_type": "stream",
     "text": [
      "0x2efb24ef\n",
      "0xabc2e463\n",
      "['ab', 'c2', 'e4', '63']\n",
      "['c2', 'e4', '63', 'ab']\n"
     ]
    }
   ],
   "source": [
    "#Here, do the XOR operations\n",
    "#\n",
    "val4 = key11array[3] ^ key11array[2]#abc2e463, do G of this value\n",
    "val3 = key11array[2] ^ key11array[1]\n",
    "val2 = key11array[1] ^ key11array[0]\n",
    "#for val1 we need to XOR G(array[3]) with val1\n",
    "#So essentially take G(the last element) and XOR is with the first element to get val1\n",
    "#We need to shift to the right 8 places to shift everything over 1 byte\n",
    "#Got this code snippet from https://www.geeksforgeeks.org/rotate-bits-of-an-integer/\n",
    "num1 = hex(val4)\n",
    "newarray = [None] * len(num1)\n",
    "for i in range(len(num1)):\n",
    "    newarray[i] = num1[i + 2 + i : i + 4 + i]\n",
    "newarray = newarray[0 : 4]\n",
    "temparray = [None] * len(num1)\n",
    "temparray[0] = newarray[1]\n",
    "temparray[1] = newarray[2]\n",
    "temparray[2] = newarray[3]\n",
    "temparray[3] = newarray[0]\n",
    "temparray = temparray[0 : 4]\n",
    "\n",
    "    \n",
    "#Just do it the hard way Matt\n",
    "print(hex(key11array[3]))\n",
    "print(num1)\n",
    "print(newarray)\n",
    "print(temparray)"
   ]
  },
  {
   "cell_type": "code",
   "execution_count": 48,
   "id": "421b3f5c",
   "metadata": {},
   "outputs": [
    {
     "name": "stdout",
     "output_type": "stream",
     "text": [
      "0x2efb24ef\n",
      "0x2ffb24ef\n",
      "0xabc2e463\n",
      "0x5d152248\n",
      "0x3dbf5056\n",
      "0xca68967d\n"
     ]
    }
   ],
   "source": [
    "#Now do rc of the first byte\n",
    "#https://en.wikipedia.org/wiki/AES_key_schedule#Rcon\n",
    "#RC coefficient per round in hexadecimal: 01, 02, 04, 08, 10, 20, 40, 80, 1B, 36\n",
    "string = num1\n",
    "temp = string\n",
    "string2 = string[2: 4]\n",
    "num2 = int(string2, 16) ^ int(\"01\", 16)#first byte in num1\n",
    "hex(num2)#now replace this with the first byte in num1\n",
    "string = string[:2] + hex(num2) + string[4:]\n",
    "#s = s[:index] + newstring + s[index + 1:]\n",
    "string = string[2:]\n",
    "print(temp)\n",
    "print(string)#Now XOR this with the first element:\n",
    "val1 = int(string, 16) ^ key11array[0]\n",
    "hex(val1)\n",
    "#key10 = F6FA49F0 3DBF5056 5D152248 ABC2E463\n",
    "print(hex(val4))\n",
    "print(hex(val3))\n",
    "print(hex(val2))\n",
    "print(hex(val1))"
   ]
  },
  {
   "cell_type": "code",
   "execution_count": 79,
   "id": "9dcade0b",
   "metadata": {},
   "outputs": [],
   "source": [
    "#https://www.reddit.com/r/learnprogramming/comments/syb7wk/python_rijndael_sbox_in_hex/\n",
    "sBox = [0x63,0x7c,0x77,0x7b,0xf2,0x6b,0x6f,0xc5,0x30,0x01,0x67,0x2b,0xfe,0xd7,0xab,0x76,\n",
    "        0xca,0x82,0xc9,0x7d,0xfa,0x59,0x47,0xf0,0xad,0xd4,0xa2,0xaf,0x9c,0xa4,0x72,0xc0,\n",
    "        0xb7,0xfd,0x93,0x26,0x36,0x3f,0xf7,0xcc,0x34,0xa5,0xe5,0xf1,0x71,0xd8,0x31,0x15,\n",
    "        0x04,0xc7,0x23,0xc3,0x18,0x96,0x05,0x9a,0x07,0x12,0x80,0xe2,0xeb,0x27,0xb2,0x75,\n",
    "        0x09,0x83,0x2c,0x1a,0x1b,0x6e,0x5a,0xa0,0x52,0x3b,0xd6,0xb3,0x29,0xe3,0x2f,0x84,\n",
    "        0x53,0xd1,0x00,0xed,0x20,0xfc,0xb1,0x5b,0x6a,0xcb,0xbe,0x39,0x4a,0x4c,0x58,0xcf,\n",
    "        0xd0,0xef,0xaa,0xfb,0x43,0x4d,0x33,0x85,0x45,0xf9,0x02,0x7f,0x50,0x3c,0x9f,0xa8,\n",
    "        0x51,0xa3,0x40,0x8f,0x92,0x9d,0x38,0xf5,0xbc,0xb6,0xda,0x21,0x10,0xff,0xf3,0xd2,\n",
    "        0xcd,0x0c,0x13,0xec,0x5f,0x97,0x44,0x17,0xc4,0xa7,0x7e,0x3d,0x64,0x5d,0x19,0x73,\n",
    "        0x60,0x81,0x4f,0xdc,0x22,0x2a,0x90,0x88,0x46,0xee,0xb8,0x14,0xde,0x5e,0x0b,0xdb,\n",
    "        0xe0,0x32,0x3a,0x0a,0x49,0x06,0x24,0x5c,0xc2,0xd3,0xac,0x62,0x91,0x95,0xe4,0x79,\n",
    "        0xe7,0xc8,0x37,0x6d,0x8d,0xd5,0x4e,0xa9,0x6c,0x56,0xf4,0xea,0x65,0x7a,0xae,0x08,\n",
    "        0xba,0x78,0x25,0x2e,0x1c,0xa6,0xb4,0xc6,0xe8,0xdd,0x74,0x1f,0x4b,0xbd,0x8b,0x8a,\n",
    "        0x70,0x3e,0xb5,0x66,0x48,0x03,0xf6,0x0e,0x61,0x35,0x57,0xb9,0x86,0xc1,0x1d,0x9e,\n",
    "        0xe1,0xf8,0x98,0x11,0x69,0xd9,0x8e,0x94,0x9b,0x1e,0x87,0xe9,0xce,0x55,0x28,0xdf,\n",
    "        0x8c,0xa1,0x89,0x0d,0xbf,0xe6,0x42,0x68,0x41,0x99,0x2d,0x0f,0xb0,0x54,0xbb,0x16]\n",
    "#16*12 + 2#Formula is first hex value * 16 + second hex value\n",
    "#(0xF + 1) * 0xC + 0x2# The hexadecimal way\n",
    "#hex(sBox[194])"
   ]
  },
  {
   "cell_type": "code",
   "execution_count": 80,
   "id": "3673f14f",
   "metadata": {},
   "outputs": [
    {
     "name": "stdout",
     "output_type": "stream",
     "text": [
      "c2\n",
      "e4\n",
      "63\n",
      "ab\n"
     ]
    }
   ],
   "source": [
    "#0xef2efb24, after shift, start here\n",
    "\n",
    "#0xabc2e463\n",
    "#0x5d152248\n",
    "#0x3dbf5056\n",
    "\n",
    "#key10 = F6FA49F0 3DBF5056 5D152248 ABC2E463\n",
    "\n",
    "#Goal, do a sub on each byte of the shifted 0xef2efb24\n",
    "#string = hex(num1)\n",
    "#q = 0\n",
    "#myarray = [None] * len(string)\n",
    "#print(len(myarray))\n",
    "#https://stackoverflow.com/questions/10712002/create-an-empty-list-with-certain-size-in-python\n",
    "#for i in range(len(string)):\n",
    "    #myarray[q] = string[q + 2 + q : q + 4 + q]\n",
    "    #q+=1\n",
    "    \n",
    "#myarray = myarray[0 : 4]\n",
    "#myarray\n",
    "for i in temparray:\n",
    "    print(i)"
   ]
  },
  {
   "cell_type": "code",
   "execution_count": 81,
   "id": "9c6962cc",
   "metadata": {},
   "outputs": [
    {
     "name": "stdout",
     "output_type": "stream",
     "text": [
      "0x25\n",
      "0x69\n",
      "0xfb\n",
      "0x62\n"
     ]
    }
   ],
   "source": [
    "#Now do the byte substitution: \n",
    "#sBox is the name of the sbyte array\n",
    "for i in range(len(temparray)):#do the think\n",
    "    first = temparray[i][0 : 1]\n",
    "    second = temparray[i][1]\n",
    "    temparray[i] = sBox[int(first, 16) * 16 + int(second, 16)]\n",
    "for i in temparray:\n",
    "    print(hex(i))\n",
    "    "
   ]
  },
  {
   "cell_type": "code",
   "execution_count": 83,
   "id": "138a9c43",
   "metadata": {},
   "outputs": [
    {
     "data": {
      "text/plain": [
       "'0x13'"
      ]
     },
     "execution_count": 83,
     "metadata": {},
     "output_type": "execute_result"
    }
   ],
   "source": [
    "myval = 0xdf31f36#This is after byte substitution\n",
    "newval = int(\"25\", 16) ^ int(\"36\", 16)\n",
    "hex(newval)"
   ]
  },
  {
   "cell_type": "code",
   "execution_count": 84,
   "id": "77f70a83",
   "metadata": {},
   "outputs": [
    {
     "name": "stdout",
     "output_type": "stream",
     "text": [
      "0xf6fa49f0\n",
      "0x3dbf5056\n",
      "0x5d152248\n",
      "0xabc2e463\n"
     ]
    }
   ],
   "source": [
    "myval = int(\"1369fb62\", 16) ^ key11array[0]\n",
    "print(hex(myval))\n",
    "print(hex(val2))\n",
    "print(hex(val3))\n",
    "print(hex(val4))\n",
    "#F6FA49F0\n",
    "#We should get 1369fb62"
   ]
  },
  {
   "cell_type": "code",
   "execution_count": null,
   "id": "e1b94558",
   "metadata": {},
   "outputs": [],
   "source": []
  }
 ],
 "metadata": {
  "kernelspec": {
   "display_name": "Python 3 (ipykernel)",
   "language": "python",
   "name": "python3"
  },
  "language_info": {
   "codemirror_mode": {
    "name": "ipython",
    "version": 3
   },
   "file_extension": ".py",
   "mimetype": "text/x-python",
   "name": "python",
   "nbconvert_exporter": "python",
   "pygments_lexer": "ipython3",
   "version": "3.8.10"
  }
 },
 "nbformat": 4,
 "nbformat_minor": 5
}
